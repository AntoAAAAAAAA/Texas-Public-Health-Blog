selected_cities = cities[cities['NAME'].isin(input)]
# selected_cities